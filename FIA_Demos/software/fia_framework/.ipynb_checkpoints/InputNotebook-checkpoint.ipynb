{
 "cells": [
  {
   "cell_type": "code",
   "execution_count": null,
   "id": "f1b64aae",
   "metadata": {
    "tags": [
     "parameters"
    ]
   },
   "outputs": [],
   "source": [
    "# Parameters\n",
    "fault_count = 1\n",
    "bit_flips = 1\n",
    "consecutive_flips = 1\n",
    "skips = 0\n",
    "instr_modify = 0\n",
    "iterations = 1\n",
    "data = 0\n",
    "verbose = True\n",
    "binary = 'test1.elf'\n",
    "correct_output = 'Value of y = 15'\n",
    "byte = False\n",
    "start = 'main'\n",
    "end = 0x40001294"
   ]
  },
  {
   "cell_type": "code",
   "execution_count": null,
   "id": "0a5df8f9",
   "metadata": {},
   "outputs": [],
   "source": [
    "import sys\n",
    "import os\n",
    "\n",
    "\n",
    "abs_path = os.path.abspath(\"../\")\n",
    "sys.path.append(abs_path + \"/software/fia_framework/\")\n",
    "\n",
    "import faultinj\n",
    "\n",
    "if __name__ == '__main__':\n",
    "    faultinj.run(start, end, fault_count, bit_flips, consecutive_flips, skips, iterations, data, instr_modify, verbose,\n",
    "        binary, correct_output, byte)"
   ]
  }
 ],
 "metadata": {
  "celltoolbar": "Tags",
  "kernelspec": {
   "display_name": "Python 3",
   "language": "python",
   "name": "python3"
  },
  "language_info": {
   "codemirror_mode": {
    "name": "ipython",
    "version": 3
   },
   "file_extension": ".py",
   "mimetype": "text/x-python",
   "name": "python",
   "nbconvert_exporter": "python",
   "pygments_lexer": "ipython3",
   "version": "3.8.8"
  }
 },
 "nbformat": 4,
 "nbformat_minor": 5
}
