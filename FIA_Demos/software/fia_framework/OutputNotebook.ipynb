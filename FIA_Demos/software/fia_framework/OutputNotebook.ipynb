{
 "cells": [
  {
   "cell_type": "code",
   "execution_count": 1,
   "id": "f1b64aae",
   "metadata": {
    "execution": {
     "iopub.execute_input": "2022-01-29T20:22:07.297271Z",
     "iopub.status.busy": "2022-01-29T20:22:07.296439Z",
     "iopub.status.idle": "2022-01-29T20:22:07.321288Z",
     "shell.execute_reply": "2022-01-29T20:22:07.319616Z"
    },
    "papermill": {
     "duration": 0.051587,
     "end_time": "2022-01-29T20:22:07.321575",
     "exception": false,
     "start_time": "2022-01-29T20:22:07.269988",
     "status": "completed"
    },
    "tags": [
     "parameters"
    ]
   },
   "outputs": [],
   "source": [
    "# Parameters\n",
    "fault_count = 2\n",
    "bit_flips = 2\n",
    "consecutive_flips = 1\n",
    "skips = 0\n",
    "instr_modify = 0\n",
    "iterations = 10\n",
    "data = 0\n",
    "verbose = True\n",
    "binary = 'test'\n",
    "correct_output = 'Value of y = 51'\n",
    "output_file = 0\n",
    "byte = False\n",
    "start = 0x40001284\n",
    "end = 0x40001288"
   ]
  },
  {
   "cell_type": "code",
   "execution_count": 2,
   "id": "47208b97",
   "metadata": {
    "execution": {
     "iopub.execute_input": "2022-01-29T20:22:07.381331Z",
     "iopub.status.busy": "2022-01-29T20:22:07.380490Z",
     "iopub.status.idle": "2022-01-29T20:22:07.385375Z",
     "shell.execute_reply": "2022-01-29T20:22:07.384652Z"
    },
    "papermill": {
     "duration": 0.03746,
     "end_time": "2022-01-29T20:22:07.385569",
     "exception": false,
     "start_time": "2022-01-29T20:22:07.348109",
     "status": "completed"
    },
    "tags": [
     "injected-parameters"
    ]
   },
   "outputs": [],
   "source": [
    "# Parameters\n",
    "fault_count = 1\n",
    "bit_flips = 2\n",
    "consecutive_flips = 1\n",
    "skips = 0\n",
    "instr_modify = 0\n",
    "iterations = 1\n",
    "data = 0\n",
    "verbose = True\n",
    "binary = \"/home/ubuntu/Desktop/FIA_Demos/src/checksum_cm/elf/test1.elf\"\n",
    "correct_output = \"Value of y = 15\"\n",
    "output_file = 0\n",
    "byte = False\n",
    "start = 1073746512\n",
    "end = 1073746516\n"
   ]
  },
  {
   "cell_type": "code",
   "execution_count": 3,
   "id": "5fb67123",
   "metadata": {
    "execution": {
     "iopub.execute_input": "2022-01-29T20:22:07.409229Z",
     "iopub.status.busy": "2022-01-29T20:22:07.408328Z",
     "iopub.status.idle": "2022-01-29T20:22:34.799359Z",
     "shell.execute_reply": "2022-01-29T20:22:34.800239Z"
    },
    "papermill": {
     "duration": 27.408251,
     "end_time": "2022-01-29T20:22:34.800532",
     "exception": false,
     "start_time": "2022-01-29T20:22:07.392281",
     "status": "completed"
    },
    "tags": []
   },
   "outputs": [
    {
     "name": "stderr",
     "output_type": "stream",
     "text": [
      "0x40001254 mov 0x19, %g1\n"
     ]
    },
    {
     "name": "stdout",
     "output_type": "stream",
     "text": [
      "['g1']\n",
      "['g1']\n"
     ]
    },
    {
     "name": "stderr",
     "output_type": "stream",
     "text": [
      "g1: 0x19 -> 0x101d\n"
     ]
    },
    {
     "name": "stderr",
     "output_type": "stream",
     "text": [
      "output is incorrect (Value of y = 4115)\n",
      "\n"
     ]
    },
    {
     "name": "stdout",
     "output_type": "stream",
     "text": [
      "Correct Output = 0, Incorrect Output = 1, No Output = 0,  Processor crashed = 0,\n"
     ]
    },
    {
     "name": "stderr",
     "output_type": "stream",
     "text": [
      "Terminating CLI due to error: -1\n"
     ]
    },
    {
     "data": {
      "image/png": "[encoded data removed]",
      "text/plain": [
       "<Figure size 432x288 with 1 Axes>"
      ]
     },
     "metadata": {},
     "output_type": "display_data"
    }
   ],
   "source": [
    "import sys\n",
    "import os\n",
    "\n",
    "\n",
    "abs_path = os.path.abspath(\"../\")\n",
    "sys.path.append(abs_path + \"/software/fia_framework/\")\n",
    "\n",
    "import faultinj\n",
    "\n",
    "if __name__ == '__main__':\n",
    "    of = open(output_file, 'w+') if output_file else sys.stdout\n",
    "    faultinj.run(start, end, fault_count, bit_flips, consecutive_flips, skips, iterations, data, instr_modify, verbose,\n",
    "        binary, correct_output, of, byte)"
   ]
  }
 ],
 "metadata": {
  "celltoolbar": "Tags",
  "kernelspec": {
   "display_name": "Python 3 (ipykernel)",
   "language": "python",
   "name": "python3"
  },
  "language_info": {
   "codemirror_mode": {
    "name": "ipython",
    "version": 3
   },
   "file_extension": ".py",
   "mimetype": "text/x-python",
   "name": "python",
   "nbconvert_exporter": "python",
   "pygments_lexer": "ipython3",
   "version": "3.8.10"
  },
  "papermill": {
   "default_parameters": {},
   "duration": 30.219466,
   "end_time": "2022-01-29T20:22:35.375956",
   "environment_variables": {},
   "exception": null,
   "input_path": "/home/ubuntu/Desktop/FIA_Demos/software/fia_framework/InputNotebook.ipynb",
   "output_path": "/home/ubuntu/Desktop/FIA_Demos/software/fia_framework/OutputNotebook.ipynb",
   "parameters": {
    "binary": "/home/ubuntu/Desktop/FIA_Demos/src/checksum_cm/elf/test1.elf",
    "bit_flips": 2,
    "byte": false,
    "consecutive_flips": 1,
    "correct_output": "Value of y = 15",
    "data": 0,
    "end": 1073746516,
    "fault_count": 1,
    "instr_modify": 0,
    "iterations": 1,
    "output_file": 0,
    "skips": 0,
    "start": 1073746512,
    "verbose": true
   },
   "start_time": "2022-01-29T20:22:05.156490",
   "version": "2.3.4"
  }
 },
 "nbformat": 4,
 "nbformat_minor": 5
}