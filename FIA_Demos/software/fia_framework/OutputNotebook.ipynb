{
 "cells": [
  {
   "cell_type": "code",
   "execution_count": 1,
   "id": "f1b64aae",
   "metadata": {
    "execution": {
     "iopub.execute_input": "2022-02-01T07:19:20.386726Z",
     "iopub.status.busy": "2022-02-01T07:19:20.384087Z",
     "iopub.status.idle": "2022-02-01T07:19:20.388050Z",
     "shell.execute_reply": "2022-02-01T07:19:20.385328Z"
    },
    "papermill": {
     "duration": 0.065971,
     "end_time": "2022-02-01T07:19:20.412457",
     "exception": false,
     "start_time": "2022-02-01T07:19:20.346486",
     "status": "completed"
    },
    "tags": [
     "parameters"
    ]
   },
   "outputs": [],
   "source": [
    "# Parameters\n",
    "fault_count = 1\n",
    "bit_flips = 1\n",
    "consecutive_flips = 1\n",
    "skips = 0\n",
    "instr_modify = 0\n",
    "iterations = 1\n",
    "data = 0\n",
    "verbose = True\n",
    "binary = 'test1.elf'\n",
    "correct_output = 'Value of y = 15'\n",
    "byte = False\n",
    "start = 'main'\n",
    "end = 0x40001294"
   ]
  },
  {
   "cell_type": "code",
   "execution_count": 2,
   "id": "ef3a0b04",
   "metadata": {
    "execution": {
     "iopub.execute_input": "2022-02-01T07:19:20.541865Z",
     "iopub.status.busy": "2022-02-01T07:19:20.519003Z",
     "iopub.status.idle": "2022-02-01T07:19:20.543212Z",
     "shell.execute_reply": "2022-02-01T07:19:20.540300Z"
    },
    "papermill": {
     "duration": 0.065955,
     "end_time": "2022-02-01T07:19:20.543550",
     "exception": false,
     "start_time": "2022-02-01T07:19:20.477595",
     "status": "completed"
    },
    "tags": [
     "injected-parameters"
    ]
   },
   "outputs": [],
   "source": [
    "# Parameters\n",
    "fault_count = 1\n",
    "bit_flips = 2\n",
    "consecutive_flips = 1\n",
    "skips = 0\n",
    "instr_modify = 0\n",
    "iterations = 10\n",
    "data = 0\n",
    "verbose = True\n",
    "binary = \"/home/pc-2/TSIM-Based-Fault-Injection-Attack-and-Countermeasures/FIA_Demos/src/checksum_cm/elf/test1_checksum.elf\"\n",
    "correct_output = \"Fault Detected\"\n",
    "byte = False\n",
    "start = 1073746528\n",
    "end = 1073746532\n"
   ]
  },
  {
   "cell_type": "code",
   "execution_count": 3,
   "id": "0a5df8f9",
   "metadata": {
    "execution": {
     "iopub.execute_input": "2022-02-01T07:19:20.648217Z",
     "iopub.status.busy": "2022-02-01T07:19:20.647016Z",
     "iopub.status.idle": "2022-02-01T07:23:29.132091Z",
     "shell.execute_reply": "2022-02-01T07:23:29.133791Z"
    },
    "papermill": {
     "duration": 248.543352,
     "end_time": "2022-02-01T07:23:29.134175",
     "exception": false,
     "start_time": "2022-02-01T07:19:20.590823",
     "status": "completed"
    },
    "tags": []
   },
   "outputs": [
    {
     "name": "stdout",
     "output_type": "stream",
     "text": [
      "Iteration No. 0\n"
     ]
    },
    {
     "name": "stdout",
     "output_type": "stream",
     "text": [
      "Executed: 0x40001264 ld [%fp - 4], %g1\n"
     ]
    },
    {
     "name": "stdout",
     "output_type": "stream",
     "text": [
      "g1: 0x19 -> 0x80100019\n"
     ]
    },
    {
     "name": "stdout",
     "output_type": "stream",
     "text": [
      "output is correct (Fault Detected)\n",
      "\n"
     ]
    },
    {
     "name": "stdout",
     "output_type": "stream",
     "text": [
      "Iteration No. 1\n"
     ]
    },
    {
     "name": "stdout",
     "output_type": "stream",
     "text": [
      "Executed: 0x40001264 ld [%fp - 4], %g1\n"
     ]
    },
    {
     "name": "stdout",
     "output_type": "stream",
     "text": [
      "g1: 0x19 -> 0x10119\n"
     ]
    },
    {
     "name": "stdout",
     "output_type": "stream",
     "text": [
      "output is correct (Fault Detected)\n",
      "\n"
     ]
    },
    {
     "name": "stdout",
     "output_type": "stream",
     "text": [
      "Iteration No. 2\n"
     ]
    },
    {
     "name": "stdout",
     "output_type": "stream",
     "text": [
      "Executed: 0x40001264 ld [%fp - 4], %g1\n"
     ]
    },
    {
     "name": "stdout",
     "output_type": "stream",
     "text": [
      "g1: 0x19 -> 0x14000019\n"
     ]
    },
    {
     "name": "stdout",
     "output_type": "stream",
     "text": [
      "output is correct (Fault Detected)\n",
      "\n"
     ]
    },
    {
     "name": "stdout",
     "output_type": "stream",
     "text": [
      "Iteration No. 3\n"
     ]
    },
    {
     "name": "stdout",
     "output_type": "stream",
     "text": [
      "Executed: 0x40001264 ld [%fp - 4], %g1\n"
     ]
    },
    {
     "name": "stdout",
     "output_type": "stream",
     "text": [
      "g1: 0x19 -> 0x41b\n"
     ]
    },
    {
     "name": "stdout",
     "output_type": "stream",
     "text": [
      "output is correct (Fault Detected)\n",
      "\n"
     ]
    },
    {
     "name": "stdout",
     "output_type": "stream",
     "text": [
      "Iteration No. 4\n"
     ]
    },
    {
     "name": "stdout",
     "output_type": "stream",
     "text": [
      "Executed: 0x40001264 ld [%fp - 4], %g1\n"
     ]
    },
    {
     "name": "stdout",
     "output_type": "stream",
     "text": [
      "g1: 0x19 -> 0x80000419\n"
     ]
    },
    {
     "name": "stdout",
     "output_type": "stream",
     "text": [
      "output is correct (Fault Detected)\n",
      "\n"
     ]
    },
    {
     "name": "stdout",
     "output_type": "stream",
     "text": [
      "Iteration No. 5\n"
     ]
    },
    {
     "name": "stdout",
     "output_type": "stream",
     "text": [
      "Executed: 0x40001264 ld [%fp - 4], %g1\n"
     ]
    },
    {
     "name": "stdout",
     "output_type": "stream",
     "text": [
      "g1: 0x19 -> 0x4000099\n"
     ]
    },
    {
     "name": "stdout",
     "output_type": "stream",
     "text": [
      "output is correct (Fault Detected)\n",
      "\n"
     ]
    },
    {
     "name": "stdout",
     "output_type": "stream",
     "text": [
      "Iteration No. 6\n"
     ]
    },
    {
     "name": "stdout",
     "output_type": "stream",
     "text": [
      "Executed: 0x40001264 ld [%fp - 4], %g1\n"
     ]
    },
    {
     "name": "stdout",
     "output_type": "stream",
     "text": [
      "g1: 0x19 -> 0x208019\n"
     ]
    },
    {
     "name": "stdout",
     "output_type": "stream",
     "text": [
      "output is correct (Fault Detected)\n",
      "\n"
     ]
    },
    {
     "name": "stdout",
     "output_type": "stream",
     "text": [
      "Iteration No. 7\n"
     ]
    },
    {
     "name": "stdout",
     "output_type": "stream",
     "text": [
      "Executed: 0x40001264 ld [%fp - 4], %g1\n"
     ]
    },
    {
     "name": "stdout",
     "output_type": "stream",
     "text": [
      "g1: 0x19 -> 0x8000001d\n"
     ]
    },
    {
     "name": "stdout",
     "output_type": "stream",
     "text": [
      "output is correct (Fault Detected)\n",
      "\n"
     ]
    },
    {
     "name": "stdout",
     "output_type": "stream",
     "text": [
      "Iteration No. 8\n"
     ]
    },
    {
     "name": "stdout",
     "output_type": "stream",
     "text": [
      "Executed: 0x40001264 ld [%fp - 4], %g1\n"
     ]
    },
    {
     "name": "stdout",
     "output_type": "stream",
     "text": [
      "g1: 0x19 -> 0x80020019\n"
     ]
    },
    {
     "name": "stdout",
     "output_type": "stream",
     "text": [
      "output is correct (Fault Detected)\n",
      "\n"
     ]
    },
    {
     "name": "stdout",
     "output_type": "stream",
     "text": [
      "Iteration No. 9\n"
     ]
    },
    {
     "name": "stdout",
     "output_type": "stream",
     "text": [
      "Executed: 0x40001264 ld [%fp - 4], %g1\n"
     ]
    },
    {
     "name": "stdout",
     "output_type": "stream",
     "text": [
      "g1: 0x19 -> 0x2010019\n"
     ]
    },
    {
     "name": "stdout",
     "output_type": "stream",
     "text": [
      "output is correct (Fault Detected)\n",
      "\n"
     ]
    },
    {
     "name": "stdout",
     "output_type": "stream",
     "text": [
      "Correct Output = 10, Incorrect Output = 0, No Output = 0,  Processor crashed = 0\n"
     ]
    },
    {
     "data": {
      "image/png": "[encoded data removed]",
      "text/plain": [
       "<Figure size 432x288 with 1 Axes>"
      ]
     },
     "metadata": {},
     "output_type": "display_data"
    }
   ],
   "source": [
    "import sys\n",
    "import os\n",
    "\n",
    "\n",
    "abs_path = os.path.abspath(\"../\")\n",
    "sys.path.append(abs_path + \"/software/fia_framework/\")\n",
    "\n",
    "import faultinj\n",
    "\n",
    "if __name__ == '__main__':\n",
    "    faultinj.run(start, end, fault_count, bit_flips, consecutive_flips, skips, iterations, data, instr_modify, verbose,\n",
    "        binary, correct_output, byte)"
   ]
  }
 ],
 "metadata": {
  "celltoolbar": "Tags",
  "kernelspec": {
   "display_name": "Python 3",
   "language": "python",
   "name": "python3"
  },
  "language_info": {
   "codemirror_mode": {
    "name": "ipython",
    "version": 3
   },
   "file_extension": ".py",
   "mimetype": "text/x-python",
   "name": "python",
   "nbconvert_exporter": "python",
   "pygments_lexer": "ipython3",
   "version": "3.8.8"
  },
  "papermill": {
   "default_parameters": {},
   "duration": 256.318177,
   "end_time": "2022-02-01T07:23:31.875975",
   "environment_variables": {},
   "exception": null,
   "input_path": "/home/pc-2/TSIM-Based-Fault-Injection-Attack-and-Countermeasures/FIA_Demos/software/fia_framework/InputNotebook.ipynb",
   "output_path": "/home/pc-2/TSIM-Based-Fault-Injection-Attack-and-Countermeasures/FIA_Demos/software/fia_framework/OutputNotebook.ipynb",
   "parameters": {
    "binary": "/home/pc-2/TSIM-Based-Fault-Injection-Attack-and-Countermeasures/FIA_Demos/src/checksum_cm/elf/test1_checksum.elf",
    "bit_flips": 2,
    "byte": false,
    "consecutive_flips": 1,
    "correct_output": "Fault Detected",
    "data": 0,
    "end": 1073746532,
    "fault_count": 1,
    "instr_modify": 0,
    "iterations": 10,
    "skips": 0,
    "start": 1073746528,
    "verbose": true
   },
   "start_time": "2022-02-01T07:19:15.557798",
   "version": "2.3.3"
  }
 },
 "nbformat": 4,
 "nbformat_minor": 5
}