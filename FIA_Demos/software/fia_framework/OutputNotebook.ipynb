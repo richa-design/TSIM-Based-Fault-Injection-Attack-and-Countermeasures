{
 "cells": [
  {
   "cell_type": "code",
   "execution_count": 1,
   "id": "f1b64aae",
   "metadata": {
    "execution": {
     "iopub.execute_input": "2022-01-31T17:53:45.960231Z",
     "iopub.status.busy": "2022-01-31T17:53:45.933548Z",
     "iopub.status.idle": "2022-01-31T17:53:45.962852Z",
     "shell.execute_reply": "2022-01-31T17:53:45.963924Z"
    },
    "papermill": {
     "duration": 0.052266,
     "end_time": "2022-01-31T17:53:45.964415",
     "exception": false,
     "start_time": "2022-01-31T17:53:45.912149",
     "status": "completed"
    },
    "tags": [
     "parameters"
    ]
   },
   "outputs": [],
   "source": [
    "# Parameters\n",
    "fault_count = 1\n",
    "bit_flips = 1\n",
    "consecutive_flips = 1\n",
    "skips = 0\n",
    "instr_modify = 0\n",
    "iterations = 1\n",
    "data = 0\n",
    "verbose = True\n",
    "binary = 'test1.elf'\n",
    "correct_output = 'Value of y = 15'\n",
    "byte = False\n",
    "start = 'main'\n",
    "end = 0x40001294"
   ]
  },
  {
   "cell_type": "code",
   "execution_count": 2,
   "id": "0db91ee8",
   "metadata": {
    "execution": {
     "iopub.execute_input": "2022-01-31T17:53:46.045197Z",
     "iopub.status.busy": "2022-01-31T17:53:46.028506Z",
     "iopub.status.idle": "2022-01-31T17:53:46.046707Z",
     "shell.execute_reply": "2022-01-31T17:53:46.029697Z"
    },
    "papermill": {
     "duration": 0.045316,
     "end_time": "2022-01-31T17:53:46.047106",
     "exception": false,
     "start_time": "2022-01-31T17:53:46.001790",
     "status": "completed"
    },
    "tags": [
     "injected-parameters"
    ]
   },
   "outputs": [],
   "source": [
    "# Parameters\n",
    "fault_count = 1\n",
    "bit_flips = 0\n",
    "consecutive_flips = 1\n",
    "skips = 1\n",
    "instr_modify = 0\n",
    "iterations = 1\n",
    "data = 0\n",
    "verbose = True\n",
    "binary = \"/home/pc-2/TSIM-Based-Fault-Injection-Attack-and-Countermeasures/FIA_Demos/src/loopcheck_cm/elf/test2_loopcheck.elf\"\n",
    "correct_output = \"Fault Detected\"\n",
    "byte = False\n",
    "start = 1073746568\n",
    "end = 1073746572\n"
   ]
  },
  {
   "cell_type": "code",
   "execution_count": 3,
   "id": "0a5df8f9",
   "metadata": {
    "execution": {
     "iopub.execute_input": "2022-01-31T17:53:46.099423Z",
     "iopub.status.busy": "2022-01-31T17:53:46.098055Z",
     "iopub.status.idle": "2022-01-31T17:54:12.991506Z",
     "shell.execute_reply": "2022-01-31T17:54:12.993206Z"
    },
    "papermill": {
     "duration": 26.936511,
     "end_time": "2022-01-31T17:54:12.993600",
     "exception": false,
     "start_time": "2022-01-31T17:53:46.057089",
     "status": "completed"
    },
    "tags": []
   },
   "outputs": [
    {
     "name": "stderr",
     "output_type": "stream",
     "text": [
      "0x4000128c cmp %g2, %g1\n"
     ]
    },
    {
     "name": "stderr",
     "output_type": "stream",
     "text": [
      "0x40001290 bl (skipped +0)\n",
      "pc: 0x40001290 -> 0x40001294\n"
     ]
    },
    {
     "name": "stderr",
     "output_type": "stream",
     "text": [
      "output is correct (Fault Detected)\n",
      "\n"
     ]
    },
    {
     "name": "stdout",
     "output_type": "stream",
     "text": [
      "Correct Output = 1, Incorrect Output = 0, No Output = 0,  Processor crashed = 0,\n"
     ]
    },
    {
     "data": {
      "image/png": "[encoded data removed]",
      "text/plain": [
       "<Figure size 432x288 with 1 Axes>"
      ]
     },
     "metadata": {},
     "output_type": "display_data"
    }
   ],
   "source": [
    "import sys\n",
    "import os\n",
    "\n",
    "\n",
    "abs_path = os.path.abspath(\"../\")\n",
    "sys.path.append(abs_path + \"/software/fia_framework/\")\n",
    "\n",
    "import faultinj\n",
    "\n",
    "if __name__ == '__main__':\n",
    "    faultinj.run(start, end, fault_count, bit_flips, consecutive_flips, skips, iterations, data, instr_modify, verbose,\n",
    "        binary, correct_output, byte)"
   ]
  }
 ],
 "metadata": {
  "celltoolbar": "Tags",
  "kernelspec": {
   "display_name": "Python 3",
   "language": "python",
   "name": "python3"
  },
  "language_info": {
   "codemirror_mode": {
    "name": "ipython",
    "version": 3
   },
   "file_extension": ".py",
   "mimetype": "text/x-python",
   "name": "python",
   "nbconvert_exporter": "python",
   "pygments_lexer": "ipython3",
   "version": "3.8.8"
  },
  "papermill": {
   "default_parameters": {},
   "duration": 31.120648,
   "end_time": "2022-01-31T17:54:14.448736",
   "environment_variables": {},
   "exception": null,
   "input_path": "/home/pc-2/TSIM-Based-Fault-Injection-Attack-and-Countermeasures/FIA_Demos/software/fia_framework/InputNotebook.ipynb",
   "output_path": "/home/pc-2/TSIM-Based-Fault-Injection-Attack-and-Countermeasures/FIA_Demos/software/fia_framework/OutputNotebook.ipynb",
   "parameters": {
    "binary": "/home/pc-2/TSIM-Based-Fault-Injection-Attack-and-Countermeasures/FIA_Demos/src/loopcheck_cm/elf/test2_loopcheck.elf",
    "bit_flips": 0,
    "byte": false,
    "consecutive_flips": 1,
    "correct_output": "Fault Detected",
    "data": 0,
    "end": 1073746572,
    "fault_count": 1,
    "instr_modify": 0,
    "iterations": 1,
    "skips": 1,
    "start": 1073746568,
    "verbose": true
   },
   "start_time": "2022-01-31T17:53:43.328088",
   "version": "2.3.3"
  }
 },
 "nbformat": 4,
 "nbformat_minor": 5
}